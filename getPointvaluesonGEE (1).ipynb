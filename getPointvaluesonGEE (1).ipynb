{
  "nbformat": 4,
  "nbformat_minor": 0,
  "metadata": {
    "colab": {
      "name": "getPointvaluesonGEE.ipynb",
      "provenance": [],
      "collapsed_sections": []
    },
    "kernelspec": {
      "display_name": "Python 3",
      "language": "python",
      "name": "python3"
    },
    "language_info": {
      "codemirror_mode": {
        "name": "ipython",
        "version": 3
      },
      "file_extension": ".py",
      "mimetype": "text/x-python",
      "name": "python",
      "nbconvert_exporter": "python",
      "pygments_lexer": "ipython3",
      "version": "3.8.3"
    }
  },
  "cells": [
    {
      "cell_type": "markdown",
      "metadata": {
        "id": "7Y1YCZS7UYpA"
      },
      "source": [
        "## Extract pixel values in Google Earth Engine (GEE) for Fluxnet sites"
      ]
    },
    {
      "cell_type": "code",
      "metadata": {
        "id": "ARZ4KG7SUqic"
      },
      "source": [
        "!pip install earthengine-api"
      ],
      "execution_count": null,
      "outputs": []
    },
    {
      "cell_type": "markdown",
      "metadata": {
        "id": "r3xjb9fjUYpB"
      },
      "source": [
        "For more information about the installation of Google Earth Engine (Python Api) , please visit https://developers.google.com/earth-engine/guides/python_install"
      ]
    },
    {
      "cell_type": "code",
      "metadata": {
        "id": "eYPRtIDNccR0"
      },
      "source": [
        "import os\n",
        "import ee"
      ],
      "execution_count": null,
      "outputs": []
    },
    {
      "cell_type": "markdown",
      "metadata": {
        "id": "rnGmW9iSUYpF"
      },
      "source": [
        "Authenticate to the Earth Engine servers:"
      ]
    },
    {
      "cell_type": "code",
      "metadata": {
        "id": "_XWt_gpxUYpG"
      },
      "source": [
        "ee.Authenticate()"
      ],
      "execution_count": null,
      "outputs": []
    },
    {
      "cell_type": "markdown",
      "metadata": {
        "id": "FGNsVA9IV3Zp"
      },
      "source": [
        "Initialize the API:"
      ]
    },
    {
      "cell_type": "code",
      "metadata": {
        "id": "8PH3sDi8V1Cq"
      },
      "source": [
        "ee.Initialize()"
      ],
      "execution_count": null,
      "outputs": []
    },
    {
      "cell_type": "code",
      "metadata": {
        "id": "KanoKhk_1bPD"
      },
      "source": [
        "def func_feat(feature,index):\n",
        "    \"\"\" Orgnazition of output csv\n",
        "\n",
        "    \"\"\"\n",
        "    coordinates = feature.geometry().coordinates()\n",
        "    feature = feature.set(\"lon\", coordinates.get(0))\n",
        "    feature = feature.set(\"lat\", coordinates.get(1))\n",
        "    feature = feature.set(\"imageId\", index)\n",
        "    feature = feature.set(\"pointId\", feature.get(\"system:index\"))\n",
        "    return feature\n",
        "\n",
        "def func_cov(image,points):\n",
        "    \"\"\" get mean value in the area defined by scale\n",
        "\n",
        "    \"\"\"\n",
        "    scale = 500\n",
        "    fCol = image.reduceRegions(collection = points,\n",
        "                  reducer = ee.Reducer.mean(),\n",
        "                  scale = scale)\n",
        "    index= image.get(\"system:index\")\n",
        "    fCol = fCol.map(lambda x: func_feat(x,index))\n",
        "    return fCol"
      ],
      "execution_count": null,
      "outputs": []
    },
    {
      "cell_type": "markdown",
      "metadata": {
        "id": "UWsVZyk-UYpK"
      },
      "source": [
        "You need to upload the [locations of Fluxnet2015 sites](https://fluxnet.org/sites/site-list-and-pages/) in shape files format to your GEE assets **or** open this [fluxnet2015](https://code.earthengine.google.com/?asset=users/mrhuaize/fluxnet15_sites)(or [link](https://code.earthengine.google.com/?asset=users/mrhuaize/fluxnet_sites) for [all sites](https://daac.ornl.gov/FLUXNET/guides/Fluxnet_site_DB.html)) to copy it to your assets directly.  "
      ]
    },
    {
      "cell_type": "code",
      "metadata": {
        "id": "a9UMLHbXUYpL"
      },
      "source": [
        "dataset = \"MODIS/006/MCD43A4\" #check details and more products on Earth Engine Data Catalog\n",
        "loc_of_fluxnet_towers = 'users/mrhuaize/fluxnet_sites' \n",
        "start_time = \"2017-1-1\"\n",
        "end_time = \"2017-1-5\"# Notice that GEE up to 5000 records can be extracted at on time\n",
        "band = \"Nadir_Reflectance_Band1\" # check details especially the scale factor on Earth Engine Data Catalog"
      ],
      "execution_count": null,
      "outputs": []
    },
    {
      "cell_type": "code",
      "metadata": {
        "id": "FOe3wQE907J8"
      },
      "source": [
        "l8 = ee.ImageCollection(dataset)\n",
        "points = ee.FeatureCollection(loc_of_fluxnet_towers)\n",
        "scol = l8.filterDate(start_time,end_time).select(band)\n",
        "scol = scol.map(lambda img: func_cov(img,points)).flatten()"
      ],
      "execution_count": null,
      "outputs": []
    },
    {
      "cell_type": "code",
      "metadata": {
        "id": "5rHAvHsSUYpP"
      },
      "source": [
        "# Export the table to your Google Drive \n",
        "task = ee.batch.Export.table.toDrive(\n",
        "  collection = scol,\n",
        "  description = \"fluxnet_\"+band,\n",
        "  fileFormat = \"CSV\",\n",
        "  selectors =  [\"imageId\", \"pointId\", \"lon\", \"lat\", \"mean\"]\n",
        ")\n",
        "task.start()"
      ],
      "execution_count": null,
      "outputs": []
    },
    {
      "cell_type": "code",
      "metadata": {
        "id": "zLovvIJ2aCAT"
      },
      "source": [
        "import pandas as pd\n",
        "from datetime import datetime\n",
        "# Post-processing if you intrest\n",
        "def time2Index(x):\n",
        "  \"\"\" Dealing with timestamp\n",
        "\n",
        "  \"\"\"\n",
        "  t = []\n",
        "  ts  = x.astype(np.str).values\n",
        "  for time in ts:\n",
        "      t.append(datetime.strptime(time,'%Y_%m_%d'))\n",
        "  return t\n",
        "\n",
        "def getGEEvar(file,vari,scale,time = '30min'):\n",
        "  \"\"\" Scaling and interpolate\n",
        "\n",
        "  \"\"\"\n",
        "  LAI = pd.read_csv(file)\n",
        "  LAI.imageId = pd.DatetimeIndex(time2Index(LAI.imageId)).round('min')\n",
        "  LAI.columns = LAI.columns.str.replace('imageId','TIMESTAMP')\n",
        "  LAI.columns = LAI.columns.str.replace('mean',vari)\n",
        "  LAI.set_index('TIMESTAMP',inplace = True)\n",
        "  LAI = LAI.resample(time).interpolate()\n",
        "  LAI = LAI.drop(['lon','lat','pointId'],axis = 1)#.resample(time).interpolate()\n",
        "  LAI[vari] = LAI[vari]*scale\n",
        "  return LAI"
      ],
      "execution_count": 20,
      "outputs": []
    },
    {
      "cell_type": "code",
      "metadata": {
        "id": "Egkc-55NeAj3"
      },
      "source": [
        ""
      ],
      "execution_count": null,
      "outputs": []
    }
  ]
}
